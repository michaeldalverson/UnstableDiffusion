{
  "cells": [
    {
      "cell_type": "code",
      "execution_count": null,
      "metadata": {
        "id": "5SP5W5WiGLWZ"
      },
      "outputs": [],
      "source": [
        "!pip install imagen-pytorch==1.24.2\n",
        "from imagen_pytorch import Unet, SRUnet256, Imagen, ImagenTrainer\n",
        "from imagen_pytorch.data import Dataset\n",
        "from accelerate import notebook_launcher\n",
        "import torch\n",
        "import numpy as np\n",
        "import pickle\n",
        "import json\n",
        "import matplotlib.pyplot as plt"
      ]
    },
    {
      "cell_type": "code",
      "execution_count": null,
      "metadata": {
        "id": "_kCPfbhqGSw-"
      },
      "outputs": [],
      "source": [
        "from google.colab import files, drive\n",
        "drive.mount('/gdrive')\n",
        "%cd /gdrive"
      ]
    },
    {
      "cell_type": "code",
      "execution_count": null,
      "metadata": {
        "colab": {
          "base_uri": "https://localhost:8080/",
          "height": 49,
          "referenced_widgets": [
            "485789246c914855ab457ad36e7e797a",
            "65e0e4343a714ce5ad5d2ce7280e75b5",
            "85f013d9e864447bbc9d1b5ccac84a81",
            "17c664dff1264097b5877aacebe34315",
            "6764af96263c454aa6f55d19c8160f17",
            "939bee73ef98403488265ea69ba1494f",
            "031b13312803454ea61b1ee973a59367",
            "5e640ad1e9f7470fb5a9f12da451bb1a",
            "6f2dfd382f4f4184bbefd88a4a48df08",
            "e26451c25ae0497486c3bcef2e7f5aa4",
            "ad6f74a5e7c54522b55edd2882b725c6"
          ]
        },
        "id": "HWTFr3fdGTLK",
        "outputId": "54833786-9806-44da-dfae-261c1e6fc3ae"
      },
      "outputs": [
        {
          "data": {
            "application/vnd.jupyter.widget-view+json": {
              "model_id": "485789246c914855ab457ad36e7e797a",
              "version_major": 2,
              "version_minor": 0
            },
            "text/plain": [
              "Downloading (…)lve/main/config.json:   0%|          | 0.00/1.21k [00:00<?, ?B/s]"
            ]
          },
          "metadata": {},
          "output_type": "display_data"
        }
      ],
      "source": [
        "unet1 = Unet(\n",
        "    dim = 192,\n",
        "    dim_mults = (1, 2, 4),\n",
        "    num_resnet_blocks = 3,\n",
        "    layer_attns = (False, True, True),\n",
        "    layer_cross_attns = (False, True, True),\n",
        "    use_linear_attn = True,\n",
        "    channels = 3,\n",
        "    channels_out = 3\n",
        ")\n",
        "\n",
        "\n",
        "unet2 = SRUnet256(\n",
        "    dim = 192,\n",
        "    dim_mults = (1, 2, 4),\n",
        "    num_resnet_blocks = (2, 4, 8),\n",
        "    layer_attns = (False, False, True),\n",
        "    layer_cross_attns = (False, False, True),\n",
        "    channels = 3,\n",
        "    channels_out = 3\n",
        ")\n",
        "\n",
        "\n",
        "# imagen, which contains the unets above (base unet and super resoluting ones)\n",
        "imagen = Imagen(\n",
        "    unets = (unet1, unet2),\n",
        "    condition_on_text = True,\n",
        "    text_encoder_name = 't5-small',\n",
        "    image_sizes = (16, 32),\n",
        "    timesteps = 1000, # how many steps between gausian steps 1000 prob be better\n",
        "    channels = 3,\n",
        ").cuda()\n",
        "\n",
        "trainer = ImagenTrainer(imagen).cuda()"
      ]
    },
    {
      "cell_type": "code",
      "source": [
        "TRAINING_SET = \"\"\n",
        "TRAINING_SET_LABELS = \"\"\n",
        "LABEL_EMBEDDINGS = \"\"\n",
        "PREVIOUS_CHECKPOINT = \"\"\n",
        "FUTURE_CHECKPOINT = \"\"\n",
        "FUTURE_CHECKPOINT_F = \"\"\n",
        "unet = 1 #Should be 2 if PREVIOUS_CHECKPOINT is not empty"
      ],
      "metadata": {
        "id": "2DWivXP23h0H"
      },
      "execution_count": null,
      "outputs": []
    },
    {
      "cell_type": "code",
      "execution_count": null,
      "metadata": {
        "id": "OeWkH55Vp3wj"
      },
      "outputs": [],
      "source": [
        "gen_train_set = np.load(TRAINING_SET)\n",
        "gen_train_labels = np.load(TRAINING_SET_LABELS)"
      ]
    },
    {
      "cell_type": "code",
      "execution_count": null,
      "metadata": {
        "id": "3HZDrom5wdAA"
      },
      "outputs": [],
      "source": [
        "training_set = torch.from_numpy(gen_train_set).float()"
      ]
    },
    {
      "cell_type": "code",
      "execution_count": null,
      "metadata": {
        "colab": {
          "base_uri": "https://localhost:8080/"
        },
        "id": "-58Qxx7xvK5c",
        "outputId": "14fa3548-12cb-44a5-cfae-91ec63ab0017"
      },
      "outputs": [
        {
          "name": "stdout",
          "output_type": "stream",
          "text": [
            "torch.Size([50000, 3, 32, 32])\n",
            "50000\n"
          ]
        }
      ],
      "source": [
        "print(training_set.shape)\n",
        "print(len(gen_train_labels))"
      ]
    },
    {
      "cell_type": "code",
      "execution_count": null,
      "metadata": {
        "colab": {
          "base_uri": "https://localhost:8080/"
        },
        "id": "JKwued6LJGMe",
        "outputId": "689bfbdc-65a0-47aa-d63a-89605471c07d"
      },
      "outputs": [
        {
          "name": "stdout",
          "output_type": "stream",
          "text": [
            "(10, 4, 512)\n"
          ]
        }
      ],
      "source": [
        "label_embeddings = np.load(LABEL_EMBEDDINGS)\n",
        "print(label_embeddings.shape)"
      ]
    },
    {
      "cell_type": "code",
      "execution_count": null,
      "metadata": {
        "id": "1qFf3i3WPEzh"
      },
      "outputs": [],
      "source": [
        "if unet != 1:\n",
        "  trainer.load(PREVIOUS_CHECKPOINT)"
      ]
    },
    {
      "cell_type": "code",
      "execution_count": null,
      "metadata": {
        "id": "C9rCxEUpvAFh"
      },
      "outputs": [],
      "source": [
        "batch_size = 32"
      ]
    },
    {
      "cell_type": "code",
      "execution_count": null,
      "metadata": {
        "colab": {
          "background_save": true
        },
        "id": "nepSmLPTGcdS"
      },
      "outputs": [],
      "source": [
        "import matplotlib.pyplot as plt\n",
        "\n",
        "low = 1\n",
        "loss = []\n",
        "for k in range(60):\n",
        "  ix = np.arange(len(training_set))\n",
        "  np.random.shuffle(ix)\n",
        "\n",
        "  for j in range(len(ix)//batch_size):\n",
        "    i = k*(len(ix)//batch_size) + j\n",
        "\n",
        "    if len(loss) > 0 and loss[-1] <= low and i > 1000:\n",
        "      low = loss[-1]\n",
        "      print(\"----------------------------------------------------------------------\")\n",
        "      print(i, low)\n",
        "      trainer.save(FUTURE_CHECKPOINT)\n",
        "\n",
        "    if len(loss) > 0 and loss[-1] <= low:\n",
        "      low = loss[-1]\n",
        "\n",
        "    if i%1000 == 0 and i != 0:\n",
        "      iii = np.random.randint(0, training_set.shape[0], 1)\n",
        "      training_embeddings = label_embeddings[gen_train_labels[iii]]\n",
        "      training_embeddings = torch.tensor(training_embeddings, requires_grad = True).float().cuda()\n",
        "\n",
        "      samp = trainer.sample(batch_size = 1, text_embeds = training_embeddings, stop_at_unet_number = unet)\n",
        "      if unet == 1:\n",
        "        image = np.zeros((16, 16, 3))\n",
        "      else:\n",
        "        image = np.zeros((32, 32, 3))\n",
        "      np_images = samp.cpu().detach().numpy()\n",
        "      for j in range(3):\n",
        "        image[:, :, j] = np_images[0, j, :, :]\n",
        "      imgplot = plt.imshow(image)\n",
        "      plt.show()\n",
        "      print(gen_train_labels[iii])\n",
        "\n",
        "    if i%100 == 0 and i != 0:\n",
        "      print(i, loss[-1], low)\n",
        "      \n",
        "    jx = ix[j*batch_size:(j+1)*batch_size]\n",
        "    training_images = training_set[jx].cuda()\n",
        "    training_embeddings = label_embeddings[gen_train_labels[jx]]\n",
        "\n",
        "    training_embeddings = torch.tensor(training_embeddings, requires_grad = True).float().cuda()\n",
        "\n",
        "    loss.append(trainer(training_images, text_embeds = training_embeddings, unet_number = unet))\n",
        "    trainer.update(unet_number = unet)\n",
        "trainer.save(FUTURE_CHECKPOINT_F)"
      ]
    }
  ],
  "metadata": {
    "accelerator": "GPU",
    "colab": {
      "machine_shape": "hm",
      "provenance": []
    },
    "gpuClass": "standard",
    "kernelspec": {
      "display_name": "Python 3",
      "name": "python3"
    },
    "language_info": {
      "name": "python"
    },
    "widgets": {
      "application/vnd.jupyter.widget-state+json": {
        "031b13312803454ea61b1ee973a59367": {
          "model_module": "@jupyter-widgets/controls",
          "model_module_version": "1.5.0",
          "model_name": "DescriptionStyleModel",
          "state": {
            "_model_module": "@jupyter-widgets/controls",
            "_model_module_version": "1.5.0",
            "_model_name": "DescriptionStyleModel",
            "_view_count": null,
            "_view_module": "@jupyter-widgets/base",
            "_view_module_version": "1.2.0",
            "_view_name": "StyleView",
            "description_width": ""
          }
        },
        "17c664dff1264097b5877aacebe34315": {
          "model_module": "@jupyter-widgets/controls",
          "model_module_version": "1.5.0",
          "model_name": "HTMLModel",
          "state": {
            "_dom_classes": [],
            "_model_module": "@jupyter-widgets/controls",
            "_model_module_version": "1.5.0",
            "_model_name": "HTMLModel",
            "_view_count": null,
            "_view_module": "@jupyter-widgets/controls",
            "_view_module_version": "1.5.0",
            "_view_name": "HTMLView",
            "description": "",
            "description_tooltip": null,
            "layout": "IPY_MODEL_e26451c25ae0497486c3bcef2e7f5aa4",
            "placeholder": "​",
            "style": "IPY_MODEL_ad6f74a5e7c54522b55edd2882b725c6",
            "value": " 1.21k/1.21k [00:00&lt;00:00, 97.6kB/s]"
          }
        },
        "485789246c914855ab457ad36e7e797a": {
          "model_module": "@jupyter-widgets/controls",
          "model_module_version": "1.5.0",
          "model_name": "HBoxModel",
          "state": {
            "_dom_classes": [],
            "_model_module": "@jupyter-widgets/controls",
            "_model_module_version": "1.5.0",
            "_model_name": "HBoxModel",
            "_view_count": null,
            "_view_module": "@jupyter-widgets/controls",
            "_view_module_version": "1.5.0",
            "_view_name": "HBoxView",
            "box_style": "",
            "children": [
              "IPY_MODEL_65e0e4343a714ce5ad5d2ce7280e75b5",
              "IPY_MODEL_85f013d9e864447bbc9d1b5ccac84a81",
              "IPY_MODEL_17c664dff1264097b5877aacebe34315"
            ],
            "layout": "IPY_MODEL_6764af96263c454aa6f55d19c8160f17"
          }
        },
        "5e640ad1e9f7470fb5a9f12da451bb1a": {
          "model_module": "@jupyter-widgets/base",
          "model_module_version": "1.2.0",
          "model_name": "LayoutModel",
          "state": {
            "_model_module": "@jupyter-widgets/base",
            "_model_module_version": "1.2.0",
            "_model_name": "LayoutModel",
            "_view_count": null,
            "_view_module": "@jupyter-widgets/base",
            "_view_module_version": "1.2.0",
            "_view_name": "LayoutView",
            "align_content": null,
            "align_items": null,
            "align_self": null,
            "border": null,
            "bottom": null,
            "display": null,
            "flex": null,
            "flex_flow": null,
            "grid_area": null,
            "grid_auto_columns": null,
            "grid_auto_flow": null,
            "grid_auto_rows": null,
            "grid_column": null,
            "grid_gap": null,
            "grid_row": null,
            "grid_template_areas": null,
            "grid_template_columns": null,
            "grid_template_rows": null,
            "height": null,
            "justify_content": null,
            "justify_items": null,
            "left": null,
            "margin": null,
            "max_height": null,
            "max_width": null,
            "min_height": null,
            "min_width": null,
            "object_fit": null,
            "object_position": null,
            "order": null,
            "overflow": null,
            "overflow_x": null,
            "overflow_y": null,
            "padding": null,
            "right": null,
            "top": null,
            "visibility": null,
            "width": null
          }
        },
        "65e0e4343a714ce5ad5d2ce7280e75b5": {
          "model_module": "@jupyter-widgets/controls",
          "model_module_version": "1.5.0",
          "model_name": "HTMLModel",
          "state": {
            "_dom_classes": [],
            "_model_module": "@jupyter-widgets/controls",
            "_model_module_version": "1.5.0",
            "_model_name": "HTMLModel",
            "_view_count": null,
            "_view_module": "@jupyter-widgets/controls",
            "_view_module_version": "1.5.0",
            "_view_name": "HTMLView",
            "description": "",
            "description_tooltip": null,
            "layout": "IPY_MODEL_939bee73ef98403488265ea69ba1494f",
            "placeholder": "​",
            "style": "IPY_MODEL_031b13312803454ea61b1ee973a59367",
            "value": "Downloading (…)lve/main/config.json: 100%"
          }
        },
        "6764af96263c454aa6f55d19c8160f17": {
          "model_module": "@jupyter-widgets/base",
          "model_module_version": "1.2.0",
          "model_name": "LayoutModel",
          "state": {
            "_model_module": "@jupyter-widgets/base",
            "_model_module_version": "1.2.0",
            "_model_name": "LayoutModel",
            "_view_count": null,
            "_view_module": "@jupyter-widgets/base",
            "_view_module_version": "1.2.0",
            "_view_name": "LayoutView",
            "align_content": null,
            "align_items": null,
            "align_self": null,
            "border": null,
            "bottom": null,
            "display": null,
            "flex": null,
            "flex_flow": null,
            "grid_area": null,
            "grid_auto_columns": null,
            "grid_auto_flow": null,
            "grid_auto_rows": null,
            "grid_column": null,
            "grid_gap": null,
            "grid_row": null,
            "grid_template_areas": null,
            "grid_template_columns": null,
            "grid_template_rows": null,
            "height": null,
            "justify_content": null,
            "justify_items": null,
            "left": null,
            "margin": null,
            "max_height": null,
            "max_width": null,
            "min_height": null,
            "min_width": null,
            "object_fit": null,
            "object_position": null,
            "order": null,
            "overflow": null,
            "overflow_x": null,
            "overflow_y": null,
            "padding": null,
            "right": null,
            "top": null,
            "visibility": null,
            "width": null
          }
        },
        "6f2dfd382f4f4184bbefd88a4a48df08": {
          "model_module": "@jupyter-widgets/controls",
          "model_module_version": "1.5.0",
          "model_name": "ProgressStyleModel",
          "state": {
            "_model_module": "@jupyter-widgets/controls",
            "_model_module_version": "1.5.0",
            "_model_name": "ProgressStyleModel",
            "_view_count": null,
            "_view_module": "@jupyter-widgets/base",
            "_view_module_version": "1.2.0",
            "_view_name": "StyleView",
            "bar_color": null,
            "description_width": ""
          }
        },
        "85f013d9e864447bbc9d1b5ccac84a81": {
          "model_module": "@jupyter-widgets/controls",
          "model_module_version": "1.5.0",
          "model_name": "FloatProgressModel",
          "state": {
            "_dom_classes": [],
            "_model_module": "@jupyter-widgets/controls",
            "_model_module_version": "1.5.0",
            "_model_name": "FloatProgressModel",
            "_view_count": null,
            "_view_module": "@jupyter-widgets/controls",
            "_view_module_version": "1.5.0",
            "_view_name": "ProgressView",
            "bar_style": "success",
            "description": "",
            "description_tooltip": null,
            "layout": "IPY_MODEL_5e640ad1e9f7470fb5a9f12da451bb1a",
            "max": 1206,
            "min": 0,
            "orientation": "horizontal",
            "style": "IPY_MODEL_6f2dfd382f4f4184bbefd88a4a48df08",
            "value": 1206
          }
        },
        "939bee73ef98403488265ea69ba1494f": {
          "model_module": "@jupyter-widgets/base",
          "model_module_version": "1.2.0",
          "model_name": "LayoutModel",
          "state": {
            "_model_module": "@jupyter-widgets/base",
            "_model_module_version": "1.2.0",
            "_model_name": "LayoutModel",
            "_view_count": null,
            "_view_module": "@jupyter-widgets/base",
            "_view_module_version": "1.2.0",
            "_view_name": "LayoutView",
            "align_content": null,
            "align_items": null,
            "align_self": null,
            "border": null,
            "bottom": null,
            "display": null,
            "flex": null,
            "flex_flow": null,
            "grid_area": null,
            "grid_auto_columns": null,
            "grid_auto_flow": null,
            "grid_auto_rows": null,
            "grid_column": null,
            "grid_gap": null,
            "grid_row": null,
            "grid_template_areas": null,
            "grid_template_columns": null,
            "grid_template_rows": null,
            "height": null,
            "justify_content": null,
            "justify_items": null,
            "left": null,
            "margin": null,
            "max_height": null,
            "max_width": null,
            "min_height": null,
            "min_width": null,
            "object_fit": null,
            "object_position": null,
            "order": null,
            "overflow": null,
            "overflow_x": null,
            "overflow_y": null,
            "padding": null,
            "right": null,
            "top": null,
            "visibility": null,
            "width": null
          }
        },
        "ad6f74a5e7c54522b55edd2882b725c6": {
          "model_module": "@jupyter-widgets/controls",
          "model_module_version": "1.5.0",
          "model_name": "DescriptionStyleModel",
          "state": {
            "_model_module": "@jupyter-widgets/controls",
            "_model_module_version": "1.5.0",
            "_model_name": "DescriptionStyleModel",
            "_view_count": null,
            "_view_module": "@jupyter-widgets/base",
            "_view_module_version": "1.2.0",
            "_view_name": "StyleView",
            "description_width": ""
          }
        },
        "e26451c25ae0497486c3bcef2e7f5aa4": {
          "model_module": "@jupyter-widgets/base",
          "model_module_version": "1.2.0",
          "model_name": "LayoutModel",
          "state": {
            "_model_module": "@jupyter-widgets/base",
            "_model_module_version": "1.2.0",
            "_model_name": "LayoutModel",
            "_view_count": null,
            "_view_module": "@jupyter-widgets/base",
            "_view_module_version": "1.2.0",
            "_view_name": "LayoutView",
            "align_content": null,
            "align_items": null,
            "align_self": null,
            "border": null,
            "bottom": null,
            "display": null,
            "flex": null,
            "flex_flow": null,
            "grid_area": null,
            "grid_auto_columns": null,
            "grid_auto_flow": null,
            "grid_auto_rows": null,
            "grid_column": null,
            "grid_gap": null,
            "grid_row": null,
            "grid_template_areas": null,
            "grid_template_columns": null,
            "grid_template_rows": null,
            "height": null,
            "justify_content": null,
            "justify_items": null,
            "left": null,
            "margin": null,
            "max_height": null,
            "max_width": null,
            "min_height": null,
            "min_width": null,
            "object_fit": null,
            "object_position": null,
            "order": null,
            "overflow": null,
            "overflow_x": null,
            "overflow_y": null,
            "padding": null,
            "right": null,
            "top": null,
            "visibility": null,
            "width": null
          }
        }
      }
    }
  },
  "nbformat": 4,
  "nbformat_minor": 0
}
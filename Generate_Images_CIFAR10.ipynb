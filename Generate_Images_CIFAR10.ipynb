{
  "cells": [
    {
      "cell_type": "code",
      "source": [
        "import matplotlib.pyplot as plt"
      ],
      "metadata": {
        "id": "g9DEgSgB-moH"
      },
      "execution_count": null,
      "outputs": []
    },
    {
      "cell_type": "code",
      "source": [
        "NUM_IMAGES = 100\n",
        "GEN_VAL_SET_PATH = \"\"\n",
        "gen_val_set = np.load(GEN_VAL_SET_PATH)"
      ],
      "metadata": {
        "id": "ieCPzieo-nln"
      },
      "execution_count": null,
      "outputs": []
    },
    {
      "cell_type": "code",
      "execution_count": null,
      "metadata": {
        "id": "AxqR7F_bjNlE"
      },
      "outputs": [],
      "source": [
        "while (idx < NUM_IMAGES):\n",
        "  first_image = torch.from_numpy(gen_val_set[idx].reshape(3, 32, 32))\n",
        "  plt.axis('off')\n",
        "  plt.imshow(first_image.permute(1, 2, 0))\n",
        "  plt.show()\n",
        "  label\n",
        "  idx+=1"
      ]
    }
  ],
  "metadata": {
    "accelerator": "GPU",
    "colab": {
      "machine_shape": "hm",
      "provenance": []
    },
    "gpuClass": "premium",
    "kernelspec": {
      "display_name": "Python 3",
      "name": "python3"
    },
    "language_info": {
      "name": "python"
    }
  },
  "nbformat": 4,
  "nbformat_minor": 0
}
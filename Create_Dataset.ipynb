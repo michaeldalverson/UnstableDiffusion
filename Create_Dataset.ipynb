{
  "cells": [
    {
      "cell_type": "code",
      "execution_count": null,
      "metadata": {
        "id": "0TExcnLiTAyk"
      },
      "outputs": [],
      "source": [
        "!pip install imagen-pytorch==1.24.2\n",
        "from imagen_pytorch import Unet, SRUnet256, Imagen, ImagenTrainer\n",
        "from imagen_pytorch.data import Dataset\n",
        "from accelerate import notebook_launcher\n",
        "import torch\n",
        "import numpy as np\n",
        "import pickle\n",
        "import json\n",
        "import matplotlib.pyplot as plt"
      ]
    },
    {
      "cell_type": "code",
      "execution_count": null,
      "metadata": {
        "colab": {
          "base_uri": "https://localhost:8080/"
        },
        "id": "wJ_m0NRBTGBO",
        "outputId": "a0548435-d14b-4bea-db2f-648169b0cf1f"
      },
      "outputs": [
        {
          "output_type": "stream",
          "name": "stdout",
          "text": [
            "Mounted at /gdrive\n",
            "/gdrive\n"
          ]
        }
      ],
      "source": [
        "from google.colab import files, drive\n",
        "drive.mount('/gdrive')\n",
        "%cd /gdrive"
      ]
    },
    {
      "cell_type": "code",
      "execution_count": null,
      "metadata": {
        "colab": {
          "base_uri": "https://localhost:8080/",
          "height": 49,
          "referenced_widgets": [
            "fab406c00be2419781f0ace78db51b2f",
            "ab65e7aae7844225a6b73f987b35ba75",
            "6ae4bd5b0a734f918141b63f8ce019f7",
            "62c0cec603f84cdd8d26d1656889ad1d",
            "1458030221c64d56af057a16fea3228c",
            "d12f3f41f4084959afc922b8a84d35fe",
            "0fd81210c4724eac8d3eb3a6922402d0",
            "09b393c05c774ba2a561e6debaf3c598",
            "32b16f765b5347bdaadca91df1f4966d",
            "d125e8966aac47d5a0c07efcc6b6331b",
            "adaf9d2d383944c084597b15950074cb"
          ]
        },
        "id": "lX20LHHXTHUt",
        "outputId": "cac476ae-4b7e-4d5e-ce93-f3fbbc505593"
      },
      "outputs": [
        {
          "output_type": "display_data",
          "data": {
            "text/plain": [
              "Downloading (…)lve/main/config.json:   0%|          | 0.00/1.21k [00:00<?, ?B/s]"
            ],
            "application/vnd.jupyter.widget-view+json": {
              "version_major": 2,
              "version_minor": 0,
              "model_id": "fab406c00be2419781f0ace78db51b2f"
            }
          },
          "metadata": {}
        }
      ],
      "source": [
        "unet1 = Unet(\n",
        "    dim = 192, #work on this 256 128 have been tested\n",
        "    dim_mults = (1, 2, 4),\n",
        "    num_resnet_blocks = 3,\n",
        "    layer_attns = (False, True, True),\n",
        "    layer_cross_attns = (False, True, True),\n",
        "    use_linear_attn = True,\n",
        "    channels = 3,\n",
        "    channels_out = 3\n",
        ")\n",
        "\n",
        "\n",
        "unet2 = SRUnet256(\n",
        "    dim = 192,\n",
        "    dim_mults = (1, 2, 4),\n",
        "    num_resnet_blocks = (2, 4, 8),\n",
        "    layer_attns = (False, False, True),\n",
        "    layer_cross_attns = (False, False, True),\n",
        "    channels = 3,\n",
        "    channels_out = 3\n",
        ")\n",
        "\n",
        "\n",
        "# imagen, which contains the unets above (base unet and super resoluting ones)\n",
        "\n",
        "imagen = Imagen(\n",
        "    unets = (unet1, unet2),\n",
        "    condition_on_text = True,\n",
        "    text_encoder_name = 't5-small',\n",
        "    image_sizes = (16, 32),\n",
        "    timesteps = 1000, # how many steps between gausian steps 1000 prob be better\n",
        "    channels = 3,\n",
        ").cuda()\n",
        "\n",
        "trainer = ImagenTrainer(imagen).cuda()"
      ]
    },
    {
      "cell_type": "code",
      "source": [
        "MODEL_CHECKPOINT = \"\"\n",
        "LABEL_EMBEDDINGS = \"\"\n",
        "TRAINING_SET = 1 #0 if creating validation set\n",
        "DATASET_PATH = \"\""
      ],
      "metadata": {
        "id": "6Vl-9e9Y6bA4"
      },
      "execution_count": null,
      "outputs": []
    },
    {
      "cell_type": "code",
      "execution_count": null,
      "metadata": {
        "colab": {
          "base_uri": "https://localhost:8080/"
        },
        "id": "gzkM8I9QTKWV",
        "outputId": "982fb571-d374-492f-d0d1-a7e8ea7b0853"
      },
      "outputs": [
        {
          "output_type": "stream",
          "name": "stdout",
          "text": [
            "checkpoint loaded from /gdrive/My Drive/Unstable Diffusion/Models/CIFAR Models/hybrid_75-25_gen0_GEN0_2.pt\n"
          ]
        }
      ],
      "source": [
        "trainer.load(MODEL_CHECKPOINT)\n",
        "label_embeddings = np.load(LABEL_EMBEDDINGS)"
      ]
    },
    {
      "cell_type": "code",
      "execution_count": null,
      "metadata": {
        "id": "et9eXnG5TewZ"
      },
      "outputs": [],
      "source": [
        "gen_val_set = np.zeros((10000, 3, 32, 32))\n",
        "gen_train_set = np.zeros((50000, 3, 32, 32))\n",
        "for j in range(max(TRAINING_SET * 5, 1)):\n",
        "  for label_idx in range(len(label_embeddings)):\n",
        "    labels = []\n",
        "    for i in range(1):\n",
        "      labels += [label_idx] * 1000\n",
        "    print(labels)\n",
        "    training_embeddings = label_embeddings[labels]\n",
        "    training_embeddings = torch.tensor(training_embeddings, requires_grad = True).float().cuda()\n",
        "    samp = trainer.sample(batch_size = 1, text_embeds = training_embeddings, stop_at_unet_number = 2) \n",
        "    gen_val_set[label_idx*1000:label_idx*1000+1000] = samp.cpu().numpy()\n",
        "  if TRAINING_SET:\n",
        "    gen_train_set[j*10000: j*10000 + 10000, :, :, :] = np.copy(gen_val_set[:, :, :, :])"
      ]
    },
    {
      "cell_type": "code",
      "execution_count": null,
      "metadata": {
        "colab": {
          "background_save": true
        },
        "id": "Yg_Xf4x0i-pd"
      },
      "outputs": [],
      "source": [
        "if TRAINING_SET:\n",
        "  np.save(DATASET_PATH, gen_train_set)\n",
        "else:\n",
        "  np.save(DATASET_PATH, gen_val_set)"
      ]
    }
  ],
  "metadata": {
    "accelerator": "GPU",
    "colab": {
      "machine_shape": "hm",
      "provenance": []
    },
    "gpuClass": "premium",
    "kernelspec": {
      "display_name": "Python 3",
      "name": "python3"
    },
    "language_info": {
      "name": "python"
    },
    "widgets": {
      "application/vnd.jupyter.widget-state+json": {
        "fab406c00be2419781f0ace78db51b2f": {
          "model_module": "@jupyter-widgets/controls",
          "model_name": "HBoxModel",
          "model_module_version": "1.5.0",
          "state": {
            "_dom_classes": [],
            "_model_module": "@jupyter-widgets/controls",
            "_model_module_version": "1.5.0",
            "_model_name": "HBoxModel",
            "_view_count": null,
            "_view_module": "@jupyter-widgets/controls",
            "_view_module_version": "1.5.0",
            "_view_name": "HBoxView",
            "box_style": "",
            "children": [
              "IPY_MODEL_ab65e7aae7844225a6b73f987b35ba75",
              "IPY_MODEL_6ae4bd5b0a734f918141b63f8ce019f7",
              "IPY_MODEL_62c0cec603f84cdd8d26d1656889ad1d"
            ],
            "layout": "IPY_MODEL_1458030221c64d56af057a16fea3228c"
          }
        },
        "ab65e7aae7844225a6b73f987b35ba75": {
          "model_module": "@jupyter-widgets/controls",
          "model_name": "HTMLModel",
          "model_module_version": "1.5.0",
          "state": {
            "_dom_classes": [],
            "_model_module": "@jupyter-widgets/controls",
            "_model_module_version": "1.5.0",
            "_model_name": "HTMLModel",
            "_view_count": null,
            "_view_module": "@jupyter-widgets/controls",
            "_view_module_version": "1.5.0",
            "_view_name": "HTMLView",
            "description": "",
            "description_tooltip": null,
            "layout": "IPY_MODEL_d12f3f41f4084959afc922b8a84d35fe",
            "placeholder": "​",
            "style": "IPY_MODEL_0fd81210c4724eac8d3eb3a6922402d0",
            "value": "Downloading (…)lve/main/config.json: 100%"
          }
        },
        "6ae4bd5b0a734f918141b63f8ce019f7": {
          "model_module": "@jupyter-widgets/controls",
          "model_name": "FloatProgressModel",
          "model_module_version": "1.5.0",
          "state": {
            "_dom_classes": [],
            "_model_module": "@jupyter-widgets/controls",
            "_model_module_version": "1.5.0",
            "_model_name": "FloatProgressModel",
            "_view_count": null,
            "_view_module": "@jupyter-widgets/controls",
            "_view_module_version": "1.5.0",
            "_view_name": "ProgressView",
            "bar_style": "success",
            "description": "",
            "description_tooltip": null,
            "layout": "IPY_MODEL_09b393c05c774ba2a561e6debaf3c598",
            "max": 1206,
            "min": 0,
            "orientation": "horizontal",
            "style": "IPY_MODEL_32b16f765b5347bdaadca91df1f4966d",
            "value": 1206
          }
        },
        "62c0cec603f84cdd8d26d1656889ad1d": {
          "model_module": "@jupyter-widgets/controls",
          "model_name": "HTMLModel",
          "model_module_version": "1.5.0",
          "state": {
            "_dom_classes": [],
            "_model_module": "@jupyter-widgets/controls",
            "_model_module_version": "1.5.0",
            "_model_name": "HTMLModel",
            "_view_count": null,
            "_view_module": "@jupyter-widgets/controls",
            "_view_module_version": "1.5.0",
            "_view_name": "HTMLView",
            "description": "",
            "description_tooltip": null,
            "layout": "IPY_MODEL_d125e8966aac47d5a0c07efcc6b6331b",
            "placeholder": "​",
            "style": "IPY_MODEL_adaf9d2d383944c084597b15950074cb",
            "value": " 1.21k/1.21k [00:00&lt;00:00, 108kB/s]"
          }
        },
        "1458030221c64d56af057a16fea3228c": {
          "model_module": "@jupyter-widgets/base",
          "model_name": "LayoutModel",
          "model_module_version": "1.2.0",
          "state": {
            "_model_module": "@jupyter-widgets/base",
            "_model_module_version": "1.2.0",
            "_model_name": "LayoutModel",
            "_view_count": null,
            "_view_module": "@jupyter-widgets/base",
            "_view_module_version": "1.2.0",
            "_view_name": "LayoutView",
            "align_content": null,
            "align_items": null,
            "align_self": null,
            "border": null,
            "bottom": null,
            "display": null,
            "flex": null,
            "flex_flow": null,
            "grid_area": null,
            "grid_auto_columns": null,
            "grid_auto_flow": null,
            "grid_auto_rows": null,
            "grid_column": null,
            "grid_gap": null,
            "grid_row": null,
            "grid_template_areas": null,
            "grid_template_columns": null,
            "grid_template_rows": null,
            "height": null,
            "justify_content": null,
            "justify_items": null,
            "left": null,
            "margin": null,
            "max_height": null,
            "max_width": null,
            "min_height": null,
            "min_width": null,
            "object_fit": null,
            "object_position": null,
            "order": null,
            "overflow": null,
            "overflow_x": null,
            "overflow_y": null,
            "padding": null,
            "right": null,
            "top": null,
            "visibility": null,
            "width": null
          }
        },
        "d12f3f41f4084959afc922b8a84d35fe": {
          "model_module": "@jupyter-widgets/base",
          "model_name": "LayoutModel",
          "model_module_version": "1.2.0",
          "state": {
            "_model_module": "@jupyter-widgets/base",
            "_model_module_version": "1.2.0",
            "_model_name": "LayoutModel",
            "_view_count": null,
            "_view_module": "@jupyter-widgets/base",
            "_view_module_version": "1.2.0",
            "_view_name": "LayoutView",
            "align_content": null,
            "align_items": null,
            "align_self": null,
            "border": null,
            "bottom": null,
            "display": null,
            "flex": null,
            "flex_flow": null,
            "grid_area": null,
            "grid_auto_columns": null,
            "grid_auto_flow": null,
            "grid_auto_rows": null,
            "grid_column": null,
            "grid_gap": null,
            "grid_row": null,
            "grid_template_areas": null,
            "grid_template_columns": null,
            "grid_template_rows": null,
            "height": null,
            "justify_content": null,
            "justify_items": null,
            "left": null,
            "margin": null,
            "max_height": null,
            "max_width": null,
            "min_height": null,
            "min_width": null,
            "object_fit": null,
            "object_position": null,
            "order": null,
            "overflow": null,
            "overflow_x": null,
            "overflow_y": null,
            "padding": null,
            "right": null,
            "top": null,
            "visibility": null,
            "width": null
          }
        },
        "0fd81210c4724eac8d3eb3a6922402d0": {
          "model_module": "@jupyter-widgets/controls",
          "model_name": "DescriptionStyleModel",
          "model_module_version": "1.5.0",
          "state": {
            "_model_module": "@jupyter-widgets/controls",
            "_model_module_version": "1.5.0",
            "_model_name": "DescriptionStyleModel",
            "_view_count": null,
            "_view_module": "@jupyter-widgets/base",
            "_view_module_version": "1.2.0",
            "_view_name": "StyleView",
            "description_width": ""
          }
        },
        "09b393c05c774ba2a561e6debaf3c598": {
          "model_module": "@jupyter-widgets/base",
          "model_name": "LayoutModel",
          "model_module_version": "1.2.0",
          "state": {
            "_model_module": "@jupyter-widgets/base",
            "_model_module_version": "1.2.0",
            "_model_name": "LayoutModel",
            "_view_count": null,
            "_view_module": "@jupyter-widgets/base",
            "_view_module_version": "1.2.0",
            "_view_name": "LayoutView",
            "align_content": null,
            "align_items": null,
            "align_self": null,
            "border": null,
            "bottom": null,
            "display": null,
            "flex": null,
            "flex_flow": null,
            "grid_area": null,
            "grid_auto_columns": null,
            "grid_auto_flow": null,
            "grid_auto_rows": null,
            "grid_column": null,
            "grid_gap": null,
            "grid_row": null,
            "grid_template_areas": null,
            "grid_template_columns": null,
            "grid_template_rows": null,
            "height": null,
            "justify_content": null,
            "justify_items": null,
            "left": null,
            "margin": null,
            "max_height": null,
            "max_width": null,
            "min_height": null,
            "min_width": null,
            "object_fit": null,
            "object_position": null,
            "order": null,
            "overflow": null,
            "overflow_x": null,
            "overflow_y": null,
            "padding": null,
            "right": null,
            "top": null,
            "visibility": null,
            "width": null
          }
        },
        "32b16f765b5347bdaadca91df1f4966d": {
          "model_module": "@jupyter-widgets/controls",
          "model_name": "ProgressStyleModel",
          "model_module_version": "1.5.0",
          "state": {
            "_model_module": "@jupyter-widgets/controls",
            "_model_module_version": "1.5.0",
            "_model_name": "ProgressStyleModel",
            "_view_count": null,
            "_view_module": "@jupyter-widgets/base",
            "_view_module_version": "1.2.0",
            "_view_name": "StyleView",
            "bar_color": null,
            "description_width": ""
          }
        },
        "d125e8966aac47d5a0c07efcc6b6331b": {
          "model_module": "@jupyter-widgets/base",
          "model_name": "LayoutModel",
          "model_module_version": "1.2.0",
          "state": {
            "_model_module": "@jupyter-widgets/base",
            "_model_module_version": "1.2.0",
            "_model_name": "LayoutModel",
            "_view_count": null,
            "_view_module": "@jupyter-widgets/base",
            "_view_module_version": "1.2.0",
            "_view_name": "LayoutView",
            "align_content": null,
            "align_items": null,
            "align_self": null,
            "border": null,
            "bottom": null,
            "display": null,
            "flex": null,
            "flex_flow": null,
            "grid_area": null,
            "grid_auto_columns": null,
            "grid_auto_flow": null,
            "grid_auto_rows": null,
            "grid_column": null,
            "grid_gap": null,
            "grid_row": null,
            "grid_template_areas": null,
            "grid_template_columns": null,
            "grid_template_rows": null,
            "height": null,
            "justify_content": null,
            "justify_items": null,
            "left": null,
            "margin": null,
            "max_height": null,
            "max_width": null,
            "min_height": null,
            "min_width": null,
            "object_fit": null,
            "object_position": null,
            "order": null,
            "overflow": null,
            "overflow_x": null,
            "overflow_y": null,
            "padding": null,
            "right": null,
            "top": null,
            "visibility": null,
            "width": null
          }
        },
        "adaf9d2d383944c084597b15950074cb": {
          "model_module": "@jupyter-widgets/controls",
          "model_name": "DescriptionStyleModel",
          "model_module_version": "1.5.0",
          "state": {
            "_model_module": "@jupyter-widgets/controls",
            "_model_module_version": "1.5.0",
            "_model_name": "DescriptionStyleModel",
            "_view_count": null,
            "_view_module": "@jupyter-widgets/base",
            "_view_module_version": "1.2.0",
            "_view_name": "StyleView",
            "description_width": ""
          }
        }
      }
    }
  },
  "nbformat": 4,
  "nbformat_minor": 0
}